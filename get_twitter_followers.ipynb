{
 "cells": [
  {
   "cell_type": "markdown",
   "metadata": {},
   "source": [
    "# Twitter Followers\n",
    "This notebook will show you how to use the Twitter API to collect metadata on all the followers of a Twitter account.\n",
    "\n",
    "We will use that information to list the top words in followers' bios.\n",
    "\n",
    "We can also get the overlap of followers between two profiles."
   ]
  },
  {
   "cell_type": "code",
   "execution_count": 1,
   "metadata": {},
   "outputs": [],
   "source": [
    "import re\n",
    "import os\n",
    "import json\n",
    "from collections import Counter\n",
    "\n",
    "import tweepy\n",
    "from tqdm import tqdm\n",
    "from nltk.corpus import stopwords\n",
    "import pandas as pd"
   ]
  },
  {
   "cell_type": "markdown",
   "metadata": {},
   "source": [
    "## Data Collection"
   ]
  },
  {
   "cell_type": "code",
   "execution_count": 2,
   "metadata": {},
   "outputs": [],
   "source": [
    "api_key = os.environ.get('TWITTER_API_KEY')\n",
    "api_secret_key = os.environ.get('TWITTER_API_SECRET')\n",
    "access_token = os.environ.get('TWITTER_ACCESS_TOKEN')\n",
    "access_token_secret = os.environ.get('TWITTER_ACCESS_TOKEN_SECRET')"
   ]
  },
  {
   "cell_type": "code",
   "execution_count": 3,
   "metadata": {},
   "outputs": [],
   "source": [
    "auth = tweepy.OAuthHandler(api_key, api_secret_key)\n",
    "auth.set_access_token(access_token, access_token_secret)\n",
    "api = tweepy.API(auth, wait_on_rate_limit=True)"
   ]
  },
  {
   "cell_type": "code",
   "execution_count": 4,
   "metadata": {},
   "outputs": [],
   "source": [
    "screen_name = 'leonyin'"
   ]
  },
  {
   "cell_type": "code",
   "execution_count": 5,
   "metadata": {},
   "outputs": [],
   "source": [
    "user_ids = []\n",
    "for page in tweepy.Cursor(api.followers_ids, \n",
    "                          screen_name=screen_name).pages():\n",
    "    user_ids.extend(page)"
   ]
  },
  {
   "cell_type": "code",
   "execution_count": 6,
   "metadata": {},
   "outputs": [
    {
     "data": {
      "text/plain": [
       "2021"
      ]
     },
     "execution_count": 6,
     "metadata": {},
     "output_type": "execute_result"
    }
   ],
   "source": [
    "len(user_ids)"
   ]
  },
  {
   "cell_type": "code",
   "execution_count": 7,
   "metadata": {},
   "outputs": [],
   "source": [
    "# Create a function called \"chunks\" with two arguments, l and n:\n",
    "def chunks(l, n):\n",
    "    # For item i in a range that is a length of l,\n",
    "    for i in range(0, len(l), n):\n",
    "        # Create an index range for l of n items:\n",
    "        yield l[i:i+n]"
   ]
  },
  {
   "cell_type": "code",
   "execution_count": 8,
   "metadata": {},
   "outputs": [],
   "source": [
    "user_meta = []\n",
    "to_do = [_ for _ in user_ids if _ not in [_['id'] for _ in user_meta]]"
   ]
  },
  {
   "cell_type": "code",
   "execution_count": 9,
   "metadata": {},
   "outputs": [
    {
     "data": {
      "text/plain": [
       "2021"
      ]
     },
     "execution_count": 9,
     "metadata": {},
     "output_type": "execute_result"
    }
   ],
   "source": [
    "len(to_do)"
   ]
  },
  {
   "cell_type": "code",
   "execution_count": 10,
   "metadata": {},
   "outputs": [
    {
     "name": "stderr",
     "output_type": "stream",
     "text": [
      "21it [00:14,  1.49it/s]\n"
     ]
    }
   ],
   "source": [
    "for chunk in tqdm(chunks(to_do, n=100)):\n",
    "    meta = api.lookup_users(user_ids=chunk)\n",
    "    for user in meta:\n",
    "        user_meta.append(user._json)"
   ]
  },
  {
   "cell_type": "code",
   "execution_count": 11,
   "metadata": {},
   "outputs": [
    {
     "data": {
      "text/plain": [
       "2021"
      ]
     },
     "execution_count": 11,
     "metadata": {},
     "output_type": "execute_result"
    }
   ],
   "source": [
    "len(user_meta)"
   ]
  },
  {
   "cell_type": "code",
   "execution_count": 12,
   "metadata": {},
   "outputs": [],
   "source": [
    "os.makedirs('data', exist_ok=True)"
   ]
  },
  {
   "cell_type": "code",
   "execution_count": 13,
   "metadata": {},
   "outputs": [],
   "source": [
    "with open(f'data/follower_meta_{screen_name}.jsonl', 'w') as f:\n",
    "    for row in user_meta:\n",
    "        f.write(json.dumps(row) + '\\n')"
   ]
  },
  {
   "cell_type": "code",
   "execution_count": 14,
   "metadata": {},
   "outputs": [],
   "source": [
    "df = pd.DataFrame(user_meta)"
   ]
  },
  {
   "cell_type": "markdown",
   "metadata": {},
   "source": [
    "## Data Analysis"
   ]
  },
  {
   "cell_type": "code",
   "execution_count": 15,
   "metadata": {},
   "outputs": [],
   "source": [
    "df = pd.read_json(f'data/follower_meta_{screen_name}.jsonl',\n",
    "                  orient='records',\n",
    "                  lines=True)"
   ]
  },
  {
   "cell_type": "code",
   "execution_count": 15,
   "metadata": {},
   "outputs": [
    {
     "data": {
      "text/plain": [
       "count      2021.000000\n",
       "mean       5652.261257\n",
       "std       27059.789737\n",
       "min           0.000000\n",
       "25%         157.000000\n",
       "50%         710.000000\n",
       "75%        2706.000000\n",
       "max      582652.000000\n",
       "Name: followers_count, dtype: float64"
      ]
     },
     "execution_count": 15,
     "metadata": {},
     "output_type": "execute_result"
    }
   ],
   "source": [
    "df.followers_count.describe()"
   ]
  },
  {
   "cell_type": "code",
   "execution_count": 16,
   "metadata": {},
   "outputs": [],
   "source": [
    "bins = [0, 100, 1000, 10000, 100000]"
   ]
  },
  {
   "cell_type": "code",
   "execution_count": 17,
   "metadata": {},
   "outputs": [
    {
     "data": {
      "image/png": "[encoded data removed]",
      "text/plain": [
       "<Figure size 432x288 with 1 Axes>"
      ]
     },
     "metadata": {
      "needs_background": "light"
     },
     "output_type": "display_data"
    }
   ],
   "source": [
    "ax = pd.cut(df.followers_count, bins=bins).value_counts().sort_index().plot(kind='bar')\n",
    "# Hide the right and top spines\n",
    "ax.spines['right'].set_visible(False)\n",
    "ax.spines['top'].set_visible(False)\n",
    "\n",
    "# Only show ticks on the left and bottom spines\n",
    "ax.yaxis.set_ticks_position('left')\n",
    "ax.xaxis.set_ticks_position('bottom')"
   ]
  },
  {
   "cell_type": "markdown",
   "metadata": {},
   "source": [
    "most of our followers have between 100 and 1000 followers."
   ]
  },
  {
   "cell_type": "code",
   "execution_count": 18,
   "metadata": {},
   "outputs": [],
   "source": [
    "sw = stopwords.words('english')"
   ]
  },
  {
   "cell_type": "code",
   "execution_count": 19,
   "metadata": {},
   "outputs": [],
   "source": [
    "# adding more words IDGAF about\n",
    "sw += ['//', '|', '$', '&', '/', '-', '•', '+', '@', 'views', 'own', 'tweets', 'own.',\n",
    "       'former', 'formerly', 'like', \"i'm\", 'previously', 'opinions', 'things',\n",
    "      '||', '≠', 'rt', 'rts']"
   ]
  },
  {
   "cell_type": "code",
   "execution_count": 20,
   "metadata": {},
   "outputs": [
    {
     "name": "stdout",
     "output_type": "stream",
     "text": [
      "data: 219\n",
      "digital: 114\n",
      "tech: 101\n",
      "social: 93\n",
      "phd: 83\n",
      "editor: 82\n",
      "research: 74\n",
      "reporter: 70\n",
      "media: 69\n",
      "science: 68\n",
      "she/her: 67\n",
      "fellow: 64\n",
      "student: 63\n",
      "journalist: 62\n",
      "professor: 58\n",
      "researcher: 52\n",
      "senior: 52\n",
      "he/him: 50\n",
      "news: 46\n",
      "new: 45\n",
      "director: 44\n",
      "policy: 44\n",
      "she/her.: 43\n",
      "he/him.: 41\n",
      "ai: 41\n",
      "working: 40\n",
      "public: 40\n",
      "assistant: 39\n",
      "journalism: 38\n",
      "technology: 35\n",
      "design: 34\n",
      "associate: 33\n",
      "prof: 33\n",
      "scientist: 32\n",
      "writer: 31\n",
      "interested: 31\n",
      "tech,: 30\n",
      "alum: 29\n",
      "writing: 28\n",
      "author: 28\n",
      "product: 26\n",
      "law: 26\n",
      "politics: 26\n",
      "founder: 26\n",
      "alum.: 26\n",
      "computational: 25\n",
      "open: 25\n",
      "political: 25\n",
      "software: 24\n",
      "privacy: 24\n",
      "love: 24\n",
      "internet: 24\n",
      "past:: 24\n",
      "data,: 23\n",
      "co-founder: 23\n",
      "board: 23\n",
      "investigative: 23\n",
      "dm: 23\n",
      "producer: 23\n",
      "learning: 22\n",
      "media,: 22\n",
      "head: 22\n",
      "information: 22\n",
      "also: 22\n",
      "work: 21\n",
      "#ai: 21\n",
      "currently: 21\n",
      "university: 21\n",
      "make: 21\n",
      "big: 21\n",
      "researching: 21\n",
      "human: 20\n",
      "@nytimes: 20\n",
      "justice: 20\n",
      "proud: 20\n",
      "mine: 20\n",
      "community: 19\n",
      "online: 19\n",
      "engineer: 18\n",
      "web: 18\n",
      "studying: 18\n",
      "building: 18\n",
      "computer: 18\n",
      "ethics: 17\n",
      "making: 17\n",
      "people: 17\n",
      "center: 17\n",
      "candidate: 17\n",
      "member: 17\n",
      "mostly: 17\n",
      "lecturer: 17\n",
      "rights: 17\n",
      "business: 16\n",
      "good: 16\n",
      "nyu: 16\n",
      "dms: 16\n",
      "journalism,: 16\n",
      "sometimes: 16\n",
      "marketing: 16\n",
      "investigations: 16\n"
     ]
    }
   ],
   "source": [
    "wc = Counter()\n",
    "for row in df.description:\n",
    "    desc = row.lower().split(' ')\n",
    "    wc.update([w for w in desc if w not in sw and w])\n",
    "\n",
    "for k, v in wc.most_common(100):\n",
    "    print(f\"{k}: {v}\")"
   ]
  },
  {
   "cell_type": "code",
   "execution_count": 21,
   "metadata": {},
   "outputs": [],
   "source": [
    "description = []\n",
    "for desc in df.description.tolist():\n",
    "    for word in desc.lower().split():\n",
    "        if word not in sw:\n",
    "            description.append(word)"
   ]
  },
  {
   "cell_type": "code",
   "execution_count": 22,
   "metadata": {},
   "outputs": [
    {
     "data": {
      "text/plain": [
       "['cofounder', '@insightbrowser.', 'product', '@quora,', 'engineering']"
      ]
     },
     "execution_count": 22,
     "metadata": {},
     "output_type": "execute_result"
    }
   ],
   "source": [
    "description[:5]"
   ]
  },
  {
   "cell_type": "code",
   "execution_count": 23,
   "metadata": {},
   "outputs": [],
   "source": [
    "words = re.findall('\\w+', ' '.join(description))\n",
    "wc = Counter(zip(words, words[1:]))"
   ]
  },
  {
   "cell_type": "code",
   "execution_count": 27,
   "metadata": {},
   "outputs": [],
   "source": [
    "tuples = [\n",
    "    ('t', 'co'),\n",
    "    ('https', 't'),\n",
    "    ('i', 'm'),\n",
    "    ('protonmail', 'com'),\n",
    "    ('views', 'own'),\n",
    "    ('opinions', 'own'),\n",
    "    ('tweets', 'own'),\n",
    "    ('opinions', 'mine'),\n",
    "    ('rt', 'endorsement'),\n",
    "    ('rts', 'endorsements'),\n",
    "    ('views', 'own'),\n",
    "    ('views', 'mine'),\n",
    "    ('let', 's'),\n",
    "    ('views', 'expressed'),\n",
    "    ('tweets', 'mine'),\n",
    "    ('views', 'expressed'),\n",
    "    ('i', 've'),\n",
    "    ('expressed', 'own'),\n",
    "    ('don', 't'),\n",
    "    ('it', 's'),\n",
    "    ('retweets', 'endorsements'),\n",
    "    ('gmail', 'com')\n",
    "]"
   ]
  },
  {
   "cell_type": "code",
   "execution_count": 28,
   "metadata": {},
   "outputs": [],
   "source": [
    "for _ in tuples:\n",
    "    wc.pop(_, '')"
   ]
  },
  {
   "cell_type": "code",
   "execution_count": 29,
   "metadata": {},
   "outputs": [
    {
     "name": "stdout",
     "output_type": "stream",
     "text": [
      "she her: 158\n",
      "he him: 138\n",
      "phd student: 41\n",
      "data science: 34\n",
      "co founder: 32\n",
      "social media: 27\n",
      "data journalist: 23\n",
      "assistant professor: 22\n",
      "dms open: 20\n",
      "associate professor: 20\n",
      "data scientist: 20\n",
      "phd candidate: 19\n",
      "him his: 17\n",
      "dm signal: 16\n",
      "public policy: 14\n",
      "machine learning: 14\n",
      "asst prof: 14\n",
      "data journalism: 13\n",
      "human rights: 13\n",
      "tech policy: 13\n",
      "computational social: 12\n",
      "her hers: 11\n",
      "managing editor: 11\n",
      "data reporter: 11\n",
      "they them: 11\n",
      "send tips: 10\n",
      "digital rights: 10\n",
      "grad student: 10\n",
      "big data: 10\n",
      "software engineer: 9\n",
      "social science: 9\n",
      "deep learning: 9\n",
      "co host: 9\n",
      "research fellow: 9\n",
      "computer science: 9\n",
      "personal account: 9\n",
      "board member: 9\n",
      "newsletter https: 9\n",
      "ph d: 8\n",
      "investigative reporter: 8\n",
      "black lives: 8\n",
      "lives matter: 8\n",
      "new york: 8\n",
      "senior reporter: 8\n",
      "social justice: 7\n",
      "research scientist: 7\n",
      "writer editor: 7\n",
      "ai ethics: 6\n",
      "tech enthusiast: 6\n",
      "we re: 6\n"
     ]
    }
   ],
   "source": [
    "for (w1, w2), val in wc.most_common(50):\n",
    "    print(f\"{w1} {w2}: {val}\")"
   ]
  },
  {
   "cell_type": "markdown",
   "metadata": {},
   "source": [
    "## Follower Overlap"
   ]
  },
  {
   "cell_type": "code",
   "execution_count": 34,
   "metadata": {},
   "outputs": [],
   "source": [
    "sn1 = 'themarkup' \n",
    "sn2 = 'theinformation'"
   ]
  },
  {
   "cell_type": "code",
   "execution_count": 38,
   "metadata": {},
   "outputs": [],
   "source": [
    "fn1 = f'data/follower_meta_{sn1}.jsonl'\n",
    "fn2 = f'data/follower_meta_{sn2}.jsonl'"
   ]
  },
  {
   "cell_type": "code",
   "execution_count": 37,
   "metadata": {
    "collapsed": true,
    "jupyter": {
     "outputs_hidden": true
    }
   },
   "outputs": [
    {
     "data": {
      "text/plain": [
       "\u001b[0;31mSignature:\u001b[0m\n",
       "\u001b[0mpd\u001b[0m\u001b[0;34m.\u001b[0m\u001b[0mread_json\u001b[0m\u001b[0;34m(\u001b[0m\u001b[0;34m\u001b[0m\n",
       "\u001b[0;34m\u001b[0m    \u001b[0mpath_or_buf\u001b[0m\u001b[0;34m=\u001b[0m\u001b[0;32mNone\u001b[0m\u001b[0;34m,\u001b[0m\u001b[0;34m\u001b[0m\n",
       "\u001b[0;34m\u001b[0m    \u001b[0morient\u001b[0m\u001b[0;34m=\u001b[0m\u001b[0;32mNone\u001b[0m\u001b[0;34m,\u001b[0m\u001b[0;34m\u001b[0m\n",
       "\u001b[0;34m\u001b[0m    \u001b[0mtyp\u001b[0m\u001b[0;34m=\u001b[0m\u001b[0;34m'frame'\u001b[0m\u001b[0;34m,\u001b[0m\u001b[0;34m\u001b[0m\n",
       "\u001b[0;34m\u001b[0m    \u001b[0mdtype\u001b[0m\u001b[0;34m=\u001b[0m\u001b[0;32mNone\u001b[0m\u001b[0;34m,\u001b[0m\u001b[0;34m\u001b[0m\n",
       "\u001b[0;34m\u001b[0m    \u001b[0mconvert_axes\u001b[0m\u001b[0;34m=\u001b[0m\u001b[0;32mNone\u001b[0m\u001b[0;34m,\u001b[0m\u001b[0;34m\u001b[0m\n",
       "\u001b[0;34m\u001b[0m    \u001b[0mconvert_dates\u001b[0m\u001b[0;34m=\u001b[0m\u001b[0;32mTrue\u001b[0m\u001b[0;34m,\u001b[0m\u001b[0;34m\u001b[0m\n",
       "\u001b[0;34m\u001b[0m    \u001b[0mkeep_default_dates\u001b[0m\u001b[0;34m=\u001b[0m\u001b[0;32mTrue\u001b[0m\u001b[0;34m,\u001b[0m\u001b[0;34m\u001b[0m\n",
       "\u001b[0;34m\u001b[0m    \u001b[0mnumpy\u001b[0m\u001b[0;34m=\u001b[0m\u001b[0;32mFalse\u001b[0m\u001b[0;34m,\u001b[0m\u001b[0;34m\u001b[0m\n",
       "\u001b[0;34m\u001b[0m    \u001b[0mprecise_float\u001b[0m\u001b[0;34m=\u001b[0m\u001b[0;32mFalse\u001b[0m\u001b[0;34m,\u001b[0m\u001b[0;34m\u001b[0m\n",
       "\u001b[0;34m\u001b[0m    \u001b[0mdate_unit\u001b[0m\u001b[0;34m=\u001b[0m\u001b[0;32mNone\u001b[0m\u001b[0;34m,\u001b[0m\u001b[0;34m\u001b[0m\n",
       "\u001b[0;34m\u001b[0m    \u001b[0mencoding\u001b[0m\u001b[0;34m=\u001b[0m\u001b[0;32mNone\u001b[0m\u001b[0;34m,\u001b[0m\u001b[0;34m\u001b[0m\n",
       "\u001b[0;34m\u001b[0m    \u001b[0mlines\u001b[0m\u001b[0;34m=\u001b[0m\u001b[0;32mFalse\u001b[0m\u001b[0;34m,\u001b[0m\u001b[0;34m\u001b[0m\n",
       "\u001b[0;34m\u001b[0m    \u001b[0mchunksize\u001b[0m\u001b[0;34m=\u001b[0m\u001b[0;32mNone\u001b[0m\u001b[0;34m,\u001b[0m\u001b[0;34m\u001b[0m\n",
       "\u001b[0;34m\u001b[0m    \u001b[0mcompression\u001b[0m\u001b[0;34m=\u001b[0m\u001b[0;34m'infer'\u001b[0m\u001b[0;34m,\u001b[0m\u001b[0;34m\u001b[0m\n",
       "\u001b[0;34m\u001b[0m\u001b[0;34m)\u001b[0m\u001b[0;34m\u001b[0m\u001b[0;34m\u001b[0m\u001b[0m\n",
       "\u001b[0;31mDocstring:\u001b[0m\n",
       "Convert a JSON string to pandas object.\n",
       "\n",
       "Parameters\n",
       "----------\n",
       "path_or_buf : a valid JSON str, path object or file-like object\n",
       "    Any valid string path is acceptable. The string could be a URL. Valid\n",
       "    URL schemes include http, ftp, s3, and file. For file URLs, a host is\n",
       "    expected. A local file could be:\n",
       "    ``file://localhost/path/to/table.json``.\n",
       "\n",
       "    If you want to pass in a path object, pandas accepts any\n",
       "    ``os.PathLike``.\n",
       "\n",
       "    By file-like object, we refer to objects with a ``read()`` method,\n",
       "    such as a file handler (e.g. via builtin ``open`` function)\n",
       "    or ``StringIO``.\n",
       "orient : str\n",
       "    Indication of expected JSON string format.\n",
       "    Compatible JSON strings can be produced by ``to_json()`` with a\n",
       "    corresponding orient value.\n",
       "    The set of possible orients is:\n",
       "\n",
       "    - ``'split'`` : dict like\n",
       "      ``{index -> [index], columns -> [columns], data -> [values]}``\n",
       "    - ``'records'`` : list like\n",
       "      ``[{column -> value}, ... , {column -> value}]``\n",
       "    - ``'index'`` : dict like ``{index -> {column -> value}}``\n",
       "    - ``'columns'`` : dict like ``{column -> {index -> value}}``\n",
       "    - ``'values'`` : just the values array\n",
       "\n",
       "    The allowed and default values depend on the value\n",
       "    of the `typ` parameter.\n",
       "\n",
       "    * when ``typ == 'series'``,\n",
       "\n",
       "      - allowed orients are ``{'split','records','index'}``\n",
       "      - default is ``'index'``\n",
       "      - The Series index must be unique for orient ``'index'``.\n",
       "\n",
       "    * when ``typ == 'frame'``,\n",
       "\n",
       "      - allowed orients are ``{'split','records','index',\n",
       "        'columns','values', 'table'}``\n",
       "      - default is ``'columns'``\n",
       "      - The DataFrame index must be unique for orients ``'index'`` and\n",
       "        ``'columns'``.\n",
       "      - The DataFrame columns must be unique for orients ``'index'``,\n",
       "        ``'columns'``, and ``'records'``.\n",
       "\n",
       "    .. versionadded:: 0.23.0\n",
       "       'table' as an allowed value for the ``orient`` argument\n",
       "\n",
       "typ : {'frame', 'series'}, default 'frame'\n",
       "    The type of object to recover.\n",
       "\n",
       "dtype : bool or dict, default None\n",
       "    If True, infer dtypes; if a dict of column to dtype, then use those;\n",
       "    if False, then don't infer dtypes at all, applies only to the data.\n",
       "\n",
       "    For all ``orient`` values except ``'table'``, default is True.\n",
       "\n",
       "    .. versionchanged:: 0.25.0\n",
       "\n",
       "       Not applicable for ``orient='table'``.\n",
       "\n",
       "convert_axes : bool, default None\n",
       "    Try to convert the axes to the proper dtypes.\n",
       "\n",
       "    For all ``orient`` values except ``'table'``, default is True.\n",
       "\n",
       "    .. versionchanged:: 0.25.0\n",
       "\n",
       "       Not applicable for ``orient='table'``.\n",
       "\n",
       "convert_dates : bool or list of str, default True\n",
       "    List of columns to parse for dates. If True, then try to parse\n",
       "    datelike columns. A column label is datelike if\n",
       "\n",
       "    * it ends with ``'_at'``,\n",
       "\n",
       "    * it ends with ``'_time'``,\n",
       "\n",
       "    * it begins with ``'timestamp'``,\n",
       "\n",
       "    * it is ``'modified'``, or\n",
       "\n",
       "    * it is ``'date'``.\n",
       "\n",
       "keep_default_dates : bool, default True\n",
       "    If parsing dates, then parse the default datelike columns.\n",
       "\n",
       "numpy : bool, default False\n",
       "    Direct decoding to numpy arrays. Supports numeric data only, but\n",
       "    non-numeric column and index labels are supported. Note also that the\n",
       "    JSON ordering MUST be the same for each term if numpy=True.\n",
       "\n",
       "    .. deprecated:: 1.0.0\n",
       "\n",
       "precise_float : bool, default False\n",
       "    Set to enable usage of higher precision (strtod) function when\n",
       "    decoding string to double values. Default (False) is to use fast but\n",
       "    less precise builtin functionality.\n",
       "\n",
       "date_unit : str, default None\n",
       "    The timestamp unit to detect if converting dates. The default behaviour\n",
       "    is to try and detect the correct precision, but if this is not desired\n",
       "    then pass one of 's', 'ms', 'us' or 'ns' to force parsing only seconds,\n",
       "    milliseconds, microseconds or nanoseconds respectively.\n",
       "\n",
       "encoding : str, default is 'utf-8'\n",
       "    The encoding to use to decode py3 bytes.\n",
       "\n",
       "lines : bool, default False\n",
       "    Read the file as a json object per line.\n",
       "\n",
       "chunksize : int, optional\n",
       "    Return JsonReader object for iteration.\n",
       "    See the `line-delimited json docs\n",
       "    <https://pandas.pydata.org/pandas-docs/stable/user_guide/io.html#line-delimited-json>`_\n",
       "    for more information on ``chunksize``.\n",
       "    This can only be passed if `lines=True`.\n",
       "    If this is None, the file will be read into memory all at once.\n",
       "\n",
       "    .. versionadded:: 0.21.0\n",
       "\n",
       "compression : {'infer', 'gzip', 'bz2', 'zip', 'xz', None}, default 'infer'\n",
       "    For on-the-fly decompression of on-disk data. If 'infer', then use\n",
       "    gzip, bz2, zip or xz if path_or_buf is a string ending in\n",
       "    '.gz', '.bz2', '.zip', or 'xz', respectively, and no decompression\n",
       "    otherwise. If using 'zip', the ZIP file must contain only one data\n",
       "    file to be read in. Set to None for no decompression.\n",
       "\n",
       "    .. versionadded:: 0.21.0\n",
       "\n",
       "Returns\n",
       "-------\n",
       "Series or DataFrame\n",
       "    The type returned depends on the value of `typ`.\n",
       "\n",
       "See Also\n",
       "--------\n",
       "DataFrame.to_json : Convert a DataFrame to a JSON string.\n",
       "Series.to_json : Convert a Series to a JSON string.\n",
       "\n",
       "Notes\n",
       "-----\n",
       "Specific to ``orient='table'``, if a :class:`DataFrame` with a literal\n",
       ":class:`Index` name of `index` gets written with :func:`to_json`, the\n",
       "subsequent read operation will incorrectly set the :class:`Index` name to\n",
       "``None``. This is because `index` is also used by :func:`DataFrame.to_json`\n",
       "to denote a missing :class:`Index` name, and the subsequent\n",
       ":func:`read_json` operation cannot distinguish between the two. The same\n",
       "limitation is encountered with a :class:`MultiIndex` and any names\n",
       "beginning with ``'level_'``.\n",
       "\n",
       "Examples\n",
       "--------\n",
       "\n",
       ">>> df = pd.DataFrame([['a', 'b'], ['c', 'd']],\n",
       "...                   index=['row 1', 'row 2'],\n",
       "...                   columns=['col 1', 'col 2'])\n",
       "\n",
       "Encoding/decoding a Dataframe using ``'split'`` formatted JSON:\n",
       "\n",
       ">>> df.to_json(orient='split')\n",
       "'{\"columns\":[\"col 1\",\"col 2\"],\n",
       "  \"index\":[\"row 1\",\"row 2\"],\n",
       "  \"data\":[[\"a\",\"b\"],[\"c\",\"d\"]]}'\n",
       ">>> pd.read_json(_, orient='split')\n",
       "      col 1 col 2\n",
       "row 1     a     b\n",
       "row 2     c     d\n",
       "\n",
       "Encoding/decoding a Dataframe using ``'index'`` formatted JSON:\n",
       "\n",
       ">>> df.to_json(orient='index')\n",
       "'{\"row 1\":{\"col 1\":\"a\",\"col 2\":\"b\"},\"row 2\":{\"col 1\":\"c\",\"col 2\":\"d\"}}'\n",
       ">>> pd.read_json(_, orient='index')\n",
       "      col 1 col 2\n",
       "row 1     a     b\n",
       "row 2     c     d\n",
       "\n",
       "Encoding/decoding a Dataframe using ``'records'`` formatted JSON.\n",
       "Note that index labels are not preserved with this encoding.\n",
       "\n",
       ">>> df.to_json(orient='records')\n",
       "'[{\"col 1\":\"a\",\"col 2\":\"b\"},{\"col 1\":\"c\",\"col 2\":\"d\"}]'\n",
       ">>> pd.read_json(_, orient='records')\n",
       "  col 1 col 2\n",
       "0     a     b\n",
       "1     c     d\n",
       "\n",
       "Encoding with Table Schema\n",
       "\n",
       ">>> df.to_json(orient='table')\n",
       "'{\"schema\": {\"fields\": [{\"name\": \"index\", \"type\": \"string\"},\n",
       "                        {\"name\": \"col 1\", \"type\": \"string\"},\n",
       "                        {\"name\": \"col 2\", \"type\": \"string\"}],\n",
       "                \"primaryKey\": \"index\",\n",
       "                \"pandas_version\": \"0.20.0\"},\n",
       "    \"data\": [{\"index\": \"row 1\", \"col 1\": \"a\", \"col 2\": \"b\"},\n",
       "            {\"index\": \"row 2\", \"col 1\": \"c\", \"col 2\": \"d\"}]}'\n",
       "\u001b[0;31mFile:\u001b[0m      ~/miniconda3/lib/python3.8/site-packages/pandas/io/json/_json.py\n",
       "\u001b[0;31mType:\u001b[0m      function\n"
      ]
     },
     "metadata": {},
     "output_type": "display_data"
    }
   ],
   "source": [
    "pd.read_json?"
   ]
  },
  {
   "cell_type": "code",
   "execution_count": 53,
   "metadata": {},
   "outputs": [],
   "source": [
    "df_1 = pd.read_json(fn1, lines=True)\n",
    "df_2 = pd.read_json(fn2, lines=True)"
   ]
  },
  {
   "cell_type": "code",
   "execution_count": 58,
   "metadata": {},
   "outputs": [
    {
     "data": {
      "text/plain": [
       "0.08118599666587283"
      ]
     },
     "execution_count": 58,
     "metadata": {},
     "output_type": "execute_result"
    }
   ],
   "source": [
    "# what percentage of followers for the first account also follow account 2?\n",
    "len(df_1[df_1.id.isin(df_2.id)]) / len(df_1)"
   ]
  },
  {
   "cell_type": "code",
   "execution_count": 63,
   "metadata": {},
   "outputs": [
    {
     "data": {
      "text/plain": [
       "49759"
      ]
     },
     "execution_count": 63,
     "metadata": {},
     "output_type": "execute_result"
    }
   ],
   "source": [
    "# public accounts that follow account 2 but not account 1\n",
    "non_followers = df_2[(~df_2.id.isin(df_1.id)) & (df_2.protected == False)]\n",
    "len(non_followers)"
   ]
  },
  {
   "cell_type": "code",
   "execution_count": null,
   "metadata": {},
   "outputs": [],
   "source": []
  }
 ],
 "metadata": {
  "kernelspec": {
   "display_name": "Python 3",
   "language": "python",
   "name": "python3"
  },
  "language_info": {
   "codemirror_mode": {
    "name": "ipython",
    "version": 3
   },
   "file_extension": ".py",
   "mimetype": "text/x-python",
   "name": "python",
   "nbconvert_exporter": "python",
   "pygments_lexer": "ipython3",
   "version": "3.8.1"
  }
 },
 "nbformat": 4,
 "nbformat_minor": 4
}
